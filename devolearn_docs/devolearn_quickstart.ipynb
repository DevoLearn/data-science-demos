{
  "cells": [
    {
      "cell_type": "markdown",
      "metadata": {
        "id": "lBHiFUrc2GUi"
      },
      "source": [
        "\n",
        "<img src = \"https://raw.githubusercontent.com/DevoLearn/devolearn/master/images/banner_1.jpg\">\n",
        "\n",
        "## Hello and welcome to devolearn !\n"
      ]
    },
    {
      "cell_type": "markdown",
      "metadata": {},
      "source": [
        "## Install devolearn from pypi"
      ]
    },
    {
      "cell_type": "code",
      "execution_count": null,
      "metadata": {
        "id": "wr_NE8mXEHtS"
      },
      "outputs": [],
      "source": [
        "devolearn_path = \"https://github.com/DevoLearn/devolearn\"\n",
        "install_method = \"github\"\n",
        "# Check if devolearn installed\n",
        "import importlib.util\n",
        "spec = importlib.util.find_spec(\"devolearn\")\n",
        "if spec is None:\n",
        "    if install_method == \"pypi\":\n",
        "        !pip install devolearn --upgrade\n",
        "    else:\n",
        "        !pip install git+$devolearn_path\n",
        "else:\n",
        "    print(f\"devolearn package is already installed :)\")"
      ]
    },
    {
      "cell_type": "code",
      "execution_count": null,
      "metadata": {
        "id": "oYZSeKKGYGft"
      },
      "outputs": [],
      "source": [
        "## git clone devolearn for sample data\n",
        "!git clone $devolearn_path"
      ]
    },
    {
      "cell_type": "code",
      "execution_count": null,
      "metadata": {
        "id": "RyEUqDklBu3G"
      },
      "outputs": [],
      "source": [
        "from devolearn import lineage_population_model\n",
        "from devolearn import Generator, embryo_generator_model\n",
        "from devolearn import cell_membrane_segmentor\n",
        "\n",
        "import matplotlib.pyplot as plt\n",
        "import os \n",
        "import cv2"
      ]
    },
    {
      "cell_type": "markdown",
      "metadata": {
        "id": "-QeDsDbrrVSd"
      },
      "source": [
        "## Importing a Pre-Trained model\n",
        "\n",
        "The first time you'll run the cell below, devolearn will automatically download the latest model weights from GitHub"
      ]
    },
    {
      "cell_type": "code",
      "execution_count": null,
      "metadata": {
        "id": "1VIZY1ZT3p5_"
      },
      "outputs": [],
      "source": [
        "device = \"cpu\" # Or device = \"cuda:0\"\n",
        "model = lineage_population_model(device = device)"
      ]
    },
    {
      "cell_type": "markdown",
      "metadata": {
        "id": "nK6xkDZ4rapn"
      },
      "source": [
        "## Estimating the lineage-wise population of cells within the C. elegans embryo from a photo  "
      ]
    },
    {
      "cell_type": "code",
      "execution_count": null,
      "metadata": {
        "colab": {
          "base_uri": "https://localhost:8080/"
        },
        "id": "_dsx5e_lB4Gy",
        "outputId": "9856bcc6-95e7-4bdc-fa76-dada993a5f41"
      },
      "outputs": [],
      "source": [
        "pred = model.predict(image_path = \"devolearn/devolearn/tests/sample_data/images/embryo_sample.png\")\n",
        "print(pred)"
      ]
    },
    {
      "cell_type": "markdown",
      "metadata": {
        "id": "I761VfZDruhF"
      },
      "source": [
        "## Estimating the same populations from a video file\n",
        "\n",
        "\n",
        "\n",
        "One can directly save the frame-wise video predictions into a CSV file with `save_csv = True`"
      ]
    },
    {
      "cell_type": "code",
      "execution_count": null,
      "metadata": {
        "id": "LLfMjz6m5i_u"
      },
      "outputs": [],
      "source": [
        "if os.path.isdir(\"sample_preds\") is not True:\n",
        "    os.mkdir(\"sample_preds\")\n",
        "\n",
        "results = model.predict_from_video(video_path = \"devolearn/devolearn/tests/sample_data/videos/embryo_timelapse.mov\", \n",
        "                                   save_csv = True, \n",
        "                                   csv_name = \"sample_preds/video_preds.csv\", \n",
        "                                   ignore_first_n_frames= 10, \n",
        "                                   ignore_last_n_frames= 10 \n",
        "                                   )\n"
      ]
    },
    {
      "cell_type": "code",
      "execution_count": null,
      "metadata": {
        "colab": {
          "base_uri": "https://localhost:8080/",
          "height": 198
        },
        "id": "NKO_KhCL6MEq",
        "outputId": "242b80e3-dc72-46bb-e1d2-ca4883ffa4a4"
      },
      "outputs": [],
      "source": [
        "results.tail(5)"
      ]
    },
    {
      "cell_type": "markdown",
      "metadata": {
        "id": "MHkrvbbCsDcp"
      },
      "source": [
        "##  Generating a population plot directly from a video file "
      ]
    },
    {
      "cell_type": "code",
      "execution_count": null,
      "metadata": {
        "colab": {
          "base_uri": "https://localhost:8080/",
          "height": 428
        },
        "id": "4sEJxAjIB-DJ",
        "outputId": "f3c759b4-31a0-4423-b483-8cf276968906"
      },
      "outputs": [],
      "source": [
        "plt.rcParams['figure.figsize'] = 15, 7\n",
        "                                    \n",
        "plot = model.create_population_plot_from_video(video_path = \"devolearn/devolearn/tests/sample_data/videos/embryo_timelapse.mov\", \n",
        "                                               save_plot= True, \n",
        "                                               plot_name= \"sample_preds/plot.jpg\", \n",
        "                                               ignore_last_n_frames= 0 \n",
        "                                               )\n",
        "plot.grid()\n",
        "plot.show()"
      ]
    },
    {
      "cell_type": "markdown",
      "metadata": {
        "id": "NP_JgTUbsMPH"
      },
      "source": [
        "## Using the pre-trained GAN to synthetic images of embryos "
      ]
    },
    {
      "cell_type": "code",
      "execution_count": null,
      "metadata": {
        "id": "jt5d1Q_C65vo"
      },
      "outputs": [],
      "source": [
        "generator = embryo_generator_model()"
      ]
    },
    {
      "cell_type": "code",
      "execution_count": null,
      "metadata": {
        "colab": {
          "base_uri": "https://localhost:8080/",
          "height": 432
        },
        "id": "K6lrADzPCPvA",
        "outputId": "7c5bc531-809c-4c80-8ed0-24a85351767f"
      },
      "outputs": [],
      "source": [
        "gen_image = generator.generate()  ## returns a 2d numpy array \n",
        "plt.imshow(gen_image)\n",
        "plt.show()"
      ]
    },
    {
      "cell_type": "markdown",
      "metadata": {
        "id": "MG-fR_cesV5O"
      },
      "source": [
        "## Bulk generation using the GAN \n",
        "\n",
        "All the generated images get saved into the folder `foldername`"
      ]
    },
    {
      "cell_type": "code",
      "execution_count": null,
      "metadata": {
        "colab": {
          "base_uri": "https://localhost:8080/",
          "height": 575
        },
        "id": "Nwo49fwFCqgF",
        "outputId": "12880795-ca3e-4add-9147-890580a687a2"
      },
      "outputs": [],
      "source": [
        "generator.generate_n_images(n = 20, \n",
        "                            foldername= \"generated_images\", \n",
        "                            image_size= (700,500)  ## (width,height)\n",
        "                            )\n",
        "\n",
        "fig, ax = plt.subplots(3,3, figsize = (12,9))\n",
        "\n",
        "image_paths = os.listdir(\"generated_images\")\n",
        "for i in range(9):\n",
        "    image = cv2.imread(\"generated_images/\" + image_paths[i], 0)\n",
        "    ax.flat[i].imshow(image)\n"
      ]
    },
    {
      "cell_type": "markdown",
      "metadata": {
        "id": "-RBEFiBIskEc"
      },
      "source": [
        "## Segmenting the C. elegans embryo "
      ]
    },
    {
      "cell_type": "code",
      "execution_count": null,
      "metadata": {
        "id": "xRUtkHG_9FV6"
      },
      "outputs": [],
      "source": [
        "segmentor = cell_membrane_segmentor()"
      ]
    },
    {
      "cell_type": "markdown",
      "metadata": {
        "id": "zTWa-vQgstfL"
      },
      "source": [
        "### Segmenting an image "
      ]
    },
    {
      "cell_type": "code",
      "execution_count": null,
      "metadata": {
        "colab": {
          "base_uri": "https://localhost:8080/",
          "height": 432
        },
        "id": "ITmSHOYM9I35",
        "outputId": "2571df19-4e60-4b50-d306-0f1c6de0a3db"
      },
      "outputs": [],
      "source": [
        "seg_pred = segmentor.predict(image_path = \"devolearn/devolearn/tests/sample_data/images/seg_sample.jpg\", centroid_mode =False )\n",
        "plt.imshow(seg_pred)\n",
        "plt.show()"
      ]
    },
    {
      "cell_type": "markdown",
      "metadata": {
        "id": "6GXrRcPIsxwo"
      },
      "source": [
        "### Segmenting and extracting the centroids "
      ]
    },
    {
      "cell_type": "code",
      "execution_count": null,
      "metadata": {
        "colab": {
          "base_uri": "https://localhost:8080/",
          "height": 432
        },
        "id": "a6uIOd47CxRU",
        "outputId": "ab1e686c-76d7-4714-a97b-4a145f3cb340"
      },
      "outputs": [],
      "source": [
        "seg_pred, centroids = segmentor.predict(image_path = \"devolearn/devolearn/tests/sample_data/images/seg_sample.jpg\", centroid_mode = True)\n",
        "plt.imshow(seg_pred)\n",
        "plt.show()"
      ]
    },
    {
      "cell_type": "markdown",
      "metadata": {
        "id": "KdkZIyjvs8RI"
      },
      "source": [
        "# Frame by frame segmentation from video files\n",
        "\n",
        "All the segmented frames get saved into the folder `save_folder`"
      ]
    },
    {
      "cell_type": "code",
      "execution_count": null,
      "metadata": {
        "id": "6GCcrrzY947L"
      },
      "outputs": [],
      "source": [
        "filenames = segmentor.predict_from_video(video_path = \"devolearn/devolearn/tests/sample_data/videos/seg_sample.mov\", \n",
        "                                         centroid_mode = False, \n",
        "                                         save_folder = \"segmented_images\"\n",
        "                                         )"
      ]
    },
    {
      "cell_type": "code",
      "execution_count": null,
      "metadata": {
        "colab": {
          "base_uri": "https://localhost:8080/",
          "height": 538
        },
        "id": "tTHAN5Y19XDt",
        "outputId": "d27b1202-15e9-494e-dcb1-4e2eecef1b4c"
      },
      "outputs": [],
      "source": [
        "fig, ax = plt.subplots(3,3, figsize = (12,9))\n",
        "\n",
        "segmented_image_paths = os.listdir(\"segmented_images\")\n",
        "for i in range(9):\n",
        "    image = cv2.imread(\"segmented_images/\" + segmented_image_paths[i], 0)\n",
        "    ax.flat[i].imshow(image)"
      ]
    },
    {
      "cell_type": "markdown",
      "metadata": {
        "id": "fypmGeNKtngi"
      },
      "source": [
        "### Segmenting from a video and saving the centroids into a CSV file \n",
        "\n"
      ]
    },
    {
      "cell_type": "code",
      "execution_count": null,
      "metadata": {
        "id": "ZU00_xO_VRPa"
      },
      "outputs": [],
      "source": [
        "df = segmentor.predict_from_video(video_path = \"devolearn/devolearn/tests/sample_data/videos/seg_sample.mov\", \n",
        "                                  centroid_mode = True, \n",
        "                                  save_folder = \"centroid\")\n",
        "df.to_csv(\"centroids.csv\")"
      ]
    },
    {
      "cell_type": "code",
      "execution_count": null,
      "metadata": {
        "colab": {
          "base_uri": "https://localhost:8080/",
          "height": 538
        },
        "id": "mbqtvsK__qym",
        "outputId": "a576db01-0c39-437d-95d8-710c613bfa94"
      },
      "outputs": [],
      "source": [
        "fig, ax = plt.subplots(3,3, figsize = (12,9))\n",
        "\n",
        "segmented_image_paths = os.listdir(\"centroid\")\n",
        "for i in range(9):\n",
        "    image = cv2.imread(\"centroid/\" + segmented_image_paths[i], 0)\n",
        "    ax.flat[i].imshow(image)"
      ]
    },
    {
      "cell_type": "markdown",
      "metadata": {},
      "source": [
        "## Run tests (optional)"
      ]
    },
    {
      "cell_type": "code",
      "execution_count": null,
      "metadata": {},
      "outputs": [],
      "source": [
        "import devolearn\n",
        "test_path = os.path.dirname(devolearn.__file__) + \"/\" + \"tests\" + \"/\" + \"test.py\"\n",
        "!python $test_path"
      ]
    }
  ],
  "metadata": {
    "colab": {
      "collapsed_sections": [],
      "name": "devolearn_quickstart.ipynb",
      "provenance": []
    },
    "kernelspec": {
      "display_name": "Python 3.9.13 ('.venv': venv)",
      "language": "python",
      "name": "python3"
    },
    "language_info": {
      "codemirror_mode": {
        "name": "ipython",
        "version": 3
      },
      "file_extension": ".py",
      "mimetype": "text/x-python",
      "name": "python",
      "nbconvert_exporter": "python",
      "pygments_lexer": "ipython3",
      "version": "3.9.13"
    },
    "vscode": {
      "interpreter": {
        "hash": "1f853d6c5af3fb82eec607032f4cac7066be192d080891fc0256b8ea61c26bd7"
      }
    }
  },
  "nbformat": 4,
  "nbformat_minor": 0
}
